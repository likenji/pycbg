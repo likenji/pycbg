{
 "cells": [
  {
   "cell_type": "code",
   "execution_count": 1,
   "metadata": {
    "collapsed": true
   },
   "outputs": [],
   "source": [
    "import time\n",
    "from icecream import ic\n",
    "import requests,json \n",
    "from bs4 import BeautifulSoup       "
   ]
  },
  {
   "cell_type": "code",
   "execution_count": 2,
   "metadata": {
    "collapsed": true
   },
   "outputs": [],
   "source": [
    "headers = {\n",
    "    'Connection': 'keep-alive',\n",
    "    'Upgrade-Insecure-Requests': '1',\n",
    "    'User-Agent': 'Mozilla/5.0 (Windows NT 10.0; WOW64) AppleWebKit/537.36 (KHTML, like Gecko) Chrome/68.0.3440.75 Safari/537.36',\n",
    "    'Accept': 'text/html,application/xhtml+xml,application/xml;q=0.9,image/webp,image/apng,*/*;q=0.8',\n",
    "    'Referer': 'https://xyq.cbg.163.com/',\n",
    "    'Accept-Encoding': 'gzip, deflate, br',\n",
    "    'Accept-Language': 'zh-CN,zh;q=0.9',\n",
    "}\n",
    "\n",
    "def get_cookies(server_id):\n",
    "    #all the following steps are to get a valid cookies\n",
    "    session = requests.Session()\n",
    "    session.get(\"https://xyq.cbg.163.com\", headers=headers,)\n",
    "    data={\n",
    "          \"act\": \"do_anon_auth\",\n",
    "          \"server_id\": server_id,\n",
    "    }\n",
    "    session.post(\"https://xyq.cbg.163.com/cgi-bin/login.py\", data=data, headers=headers)\n",
    "    return session.cookies \n",
    "\n",
    "cookies = get_cookies(79)"
   ]
  },
  {
   "cell_type": "code",
   "execution_count": 3,
   "metadata": {
    "collapsed": true
   },
   "outputs": [],
   "source": [
    "from pycbg.xyq.parser import Parser\n",
    "from pycbg.xyq.object.xyqObject import *\n",
    "p = Parser()"
   ]
  },
  {
   "cell_type": "code",
   "execution_count": 4,
   "metadata": {
    "collapsed": true
   },
   "outputs": [],
   "source": [
    "role_urls = []\n",
    "for page in range(1):\n",
    "    params = (\n",
    "    ('act', 'search_role'),\n",
    "    ('page', page),\n",
    "    ('query_order', 'collect_num DESC')\n",
    ")\n",
    "\n",
    "    response = requests.get('https://xyq.cbg.163.com/cgi-bin/query.py', headers=headers, params=params, cookies=cookies)\n",
    "    response.encoding = \"GBK\"\n",
    "    bsobj = BeautifulSoup(response.text, \"html.parser\")\n",
    "    role_info = bsobj.findAll(\"a\",{\"class\":\"soldImg\"})\n",
    "    role_urls.extend([info[\"href\"] for info in role_info]) "
   ]
  },
  {
   "cell_type": "code",
   "execution_count": 5,
   "metadata": {},
   "outputs": [
    {
     "name": "stderr",
     "output_type": "stream",
     "text": [
      "ic| typeID: 17320\n"
     ]
    }
   ],
   "source": [
    "role_list = []\n",
    "role_desc_list = []    \n",
    "for url in role_urls[:]:\n",
    "    response = requests.get(url, cookies=cookies)\n",
    "    response.encoding = \"GBK\"\n",
    "    bsobj = BeautifulSoup(response.text, \"html.parser\")\n",
    "    role_desc = bsobj.findAll(\"textarea\", {\"id\":\"equip_desc_value\"})[0].text\n",
    "    role_dict = eval(p.desc_proprocess(role_desc))\n",
    "    role_desc_list.append(role_desc)\n",
    "    role=p.parse_role(role_desc)\n",
    "    role_list.append(role)"
   ]
  },
  {
   "cell_type": "code",
   "execution_count": 6,
   "metadata": {},
   "outputs": [
    {
     "name": "stdout",
     "output_type": "stream",
     "text": [
      "{'level': 65, 'SPD': 22, 'loc': 2, 'DMG': 23, 'durance': 9, 'suitSkill': '惊心一剑', 'gemType': '速度', 'gemLevel': 3, 'typeID': 9207, 'lock': 0, 'lockNew': 0}\n",
      "{'gemType': ['光芒石'], 'specialEffect': ['愤怒'], 'meltDict': {}, 'level': 60, 'HP': 365, 'DEF': 34, 'durance': 321, 'gemLevel': 5, 'hole': 2, 'typeID': 2911, 'lock': 0, 'lockNew': 0}\n",
      "{'level': 65, 'bingoRate': 9, 'loc': 1, 'DMG': 23, 'durance': 29, 'failure': 1, 'suitSkill': '惊心一剑', 'gemType': '伤害', 'gemLevel': 6, 'typeID': 9307, 'lock': 0, 'lockNew': 0}\n",
      "{'gemType': ['光芒石'], 'specialEffect': [], 'meltDict': {}, 'level': 60, 'HP': 240, 'DEF': 26, 'durance': 382, 'gemLevel': 3, 'suitSkill': '追加法术横扫千军', 'typeID': 2911, 'lock': 0, 'lockNew': 0}\n",
      "{'gemType': ['黑宝石'], 'specialEffect': [], 'meltDict': {}, 'level': 60, 'DEF': 32, 'SPD_P': 27, 'durance': 315, 'failure': 1, 'gemLevel': 6, 'ultimateSkill': '破碎无双', 'hole': 2, 'typeID': 2707, 'lock': 0, 'lockNew': 0}\n",
      "{'gemType': ['红玛瑙'], 'specialEffect': ['简易'], 'meltDict': {}, 'level': 70, 'accurateP': 430, 'DMG': 270, 'durance': 139, 'failure': 1, 'gemLevel': 7, 'hole': 3, 'totemCombo': '销魂噬骨符石', 'creator': '宝ㄦ挂帅', 'typeID': 2308, 'lock': 0, 'lockNew': 0}\n",
      "{'gemType': [], 'specialEffect': [], 'meltDict': {}, 'level': 60, 'accurateP': 220, 'DMG': 216, 'durance': 40, 'ultimateSkill': '罗汉金钟', 'hole': 2, 'totemCombo': '销魂噬骨符石', 'creator': '孤独の锋芒', 'typeID': 2307, 'lock': 0, 'lockNew': 0}\n",
      "{'level': 65, 'DMG': 23, 'DEF': 60, 'loc': 3, 'MP': 53, 'durance': 8, 'suitSkill': '惊心一剑', 'gemType': '气血', 'gemLevel': 4, 'typeID': 9107, 'lock': 0, 'lockNew': 0}\n",
      "{'gemType': ['黑宝石'], 'specialEffect': [], 'meltDict': {}, 'level': 60, 'HP': 200, 'DEF': 36, 'durance': 60, 'gemLevel': 6, 'suitSkill': '追加法术满天花雨', 'hole': 2, 'totemCombo': '百步穿杨', 'typeID': 2911, 'lock': 0, 'lockNew': 0}\n",
      "{'gemType': ['光芒石'], 'specialEffect': [], 'meltDict': {}, 'level': 60, 'HP': 80, 'DEF': 80, 'durance': 369, 'gemLevel': 2, 'suitSkill': '追加法术横扫千军', 'typeID': 2607, 'lock': 0, 'lockNew': 0}\n",
      "{'gemType': ['月亮石', '光芒石'], 'specialEffect': [], 'meltDict': {}, 'level': 50, 'HP': 120, 'DEF': 93, 'durance': 211, 'gemLevel': 4, 'suitSkill': '附加状态变身', 'typeID': 2606, 'lock': 0, 'lockNew': 0}\n",
      "{'gemType': ['舍利子'], 'specialEffect': [], 'meltDict': {}, 'level': 60, 'AP': 89, 'durance': 261, 'gemLevel': 2, 'suitSkill': '追加法术横扫千军', 'typeID': 2810, 'lock': 0, 'lockNew': 0}\n",
      "{'gemType': [], 'specialEffect': ['简易'], 'meltDict': {}, 'level': 70, 'HP': 150, 'DEF': 40, 'durance': 800, 'creator': '差点错过你', 'typeID': 2913, 'lock': 0, 'lockNew': 0}\n",
      "{'gemType': ['红玛瑙'], 'specialEffect': ['简易'], 'meltDict': {}, 'level': 70, 'MP': 84, 'DEF': 43, 'durance': 170, 'gemLevel': 7, 'hole': 2, 'creator': 'だ森林→狼だ', 'typeID': 2508, 'lock': 0, 'lockNew': 0}\n",
      "{'gemType': ['舍利子'], 'specialEffect': [], 'meltDict': {}, 'level': 60, 'AP': 99, 'durance': 27, 'failure': 1, 'gemLevel': 5, 'suitSkill': '追加法术满天花雨', 'hole': 2, 'totemCombo': '销魂噬骨符石', 'typeID': 2810, 'lock': 0, 'lockNew': 0}\n",
      "{'gemType': ['红玛瑙'], 'specialEffect': [], 'meltDict': {}, 'level': 60, 'DEF': 42, 'MP': 70, 'durance': 577, 'gemLevel': 6, 'suitSkill': '追加法术满天花雨', 'hole': 2, 'typeID': 2507, 'lock': 0, 'lockNew': 0}\n",
      "{'gemType': ['红玛瑙'], 'specialEffect': [], 'meltDict': {}, 'level': 60, 'DEF': 26, 'MP': 60, 'durance': 484, 'gemLevel': 3, 'suitSkill': '追加法术横扫千军', 'typeID': 2507, 'lock': 0, 'lockNew': 0}\n",
      "{'gemType': ['黑宝石'], 'specialEffect': [], 'meltDict': {}, 'level': 60, 'DEF': 24, 'SPD_P': 31, 'durance': 322, 'gemLevel': 2, 'suitSkill': '追加法术横扫千军', 'typeID': 2707, 'lock': 0, 'lockNew': 0}\n"
     ]
    }
   ],
   "source": [
    "for equip in role.equip_list:\n",
    "    print(equip.__dict__)"
   ]
  },
  {
   "cell_type": "code",
   "execution_count": 7,
   "metadata": {},
   "outputs": [
    {
     "name": "stdout",
     "output_type": "stream",
     "text": [
      "{'skillList': ['326', '307', '552', '310', '302', '505', '317', '303'], 'coreDict': {905: 1, 904: 3}, 'equip1': <pycbg.xyq.object.xyqObject.Equipment_pet object at 0x00000193853046A0>, 'equip2': <pycbg.xyq.object.xyqObject.Equipment_pet object at 0x0000019385304240>, 'equip3': <pycbg.xyq.object.xyqObject.Equipment_pet object at 0x00000193853042E8>, 'equip4': <pycbg.xyq.object.xyqObject.Equipment_pet object at 0x0000019385304208>, 'lock': 0, 'lockNew': 0, 'typeID': 102023, 'level': 75, 'DRNC': 12330, 'summon_color': 0, 'realColor': 0, 'APSkill': 326, 'AD_APTTD': 827, 'DEF_APTTD': 1312, 'raw_growth': 1074, 'growth': 1.074, 'MP_APTTD': 1751, 'HP_APTTD': 4254, 'SPD_APTTD': 733, 'MS_APTTD': 883, 'used_yuanxiao': 0, 'used_ruyidan': 0, 'used_qianjinlu': 0, 'used_lianshou': 0, 'used_shuijinggao': 0, 'HP_P': 410, 'MP_P': 85, 'AD_P': 91, 'DEF_P': 143, 'SPD_P': 85, 'unallocated_P': 0, 'lingxing': 0, 'tmp_lingxing': 0, 'jinjie_cd': 0, 'left_qlxl': 7, 'coreName': '', 'coreID': 0}\n",
      "{'skillList': ['335', '422', '407', '320', '429'], 'coreDict': {907: 2, 916: 1}, 'equip1': <pycbg.xyq.object.xyqObject.Equipment_pet object at 0x0000019385304E80>, 'equip2': <pycbg.xyq.object.xyqObject.Equipment_pet object at 0x0000019385304F98>, 'equip3': <pycbg.xyq.object.xyqObject.Equipment_pet object at 0x0000019385304F28>, 'equip4': <pycbg.xyq.object.xyqObject.Equipment_pet object at 0x0000019385304F60>, 'lock': 0, 'lockNew': 0, 'typeID': 102571, 'level': 79, 'DRNC': 8066, 'summon_color': 0, 'realColor': 2, 'APSkill': 429, 'AD_APTTD': 1259, 'DEF_APTTD': 1399, 'raw_growth': 1224, 'growth': 1.224, 'MP_APTTD': 2410, 'HP_APTTD': 4441, 'SPD_APTTD': 1613, 'MS_APTTD': 1244, 'used_yuanxiao': 0, 'used_ruyidan': 0, 'used_qianjinlu': 0, 'used_lianshou': 0, 'used_shuijinggao': 0, 'HP_P': 199, 'MP_P': 89, 'AD_P': 89, 'DEF_P': 342, 'SPD_P': 189, 'unallocated_P': 0, 'lingxing': 0, 'tmp_lingxing': 0, 'jinjie_cd': 0, 'left_qlxl': 7, 'coreName': '', 'coreID': 0}\n",
      "{'skillList': ['301', '305', '596', '316', '325', '304'], 'coreDict': {903: 5, 901: 5}, 'equip1': <pycbg.xyq.object.xyqObject.Equipment_pet object at 0x0000019385304DD8>, 'equip2': <pycbg.xyq.object.xyqObject.Equipment_pet object at 0x0000019385304BE0>, 'equip3': <pycbg.xyq.object.xyqObject.Equipment_pet object at 0x0000019385304EF0>, 'equip4': <pycbg.xyq.object.xyqObject.Equipment_pet object at 0x0000019385304D30>, 'lock': 0, 'lockNew': 0, 'typeID': 102178, 'level': 79, 'DRNC': 1142, 'summon_color': 1, 'realColor': 6, 'APSkill': 0, 'AD_APTTD': 1461, 'DEF_APTTD': 1218, 'raw_growth': 1202, 'growth': 1.202, 'MP_APTTD': 1526, 'HP_APTTD': 4044, 'SPD_APTTD': 1011, 'MS_APTTD': 1003, 'used_yuanxiao': 0, 'used_ruyidan': 0, 'used_qianjinlu': 0, 'used_lianshou': 0, 'used_shuijinggao': 0, 'HP_P': 210, 'MP_P': 89, 'AD_P': 595, 'DEF_P': 89, 'SPD_P': 89, 'unallocated_P': 0, 'lingxing': 91, 'tmp_lingxing': 91, 'jinjie_cd': 0, 'left_qlxl': 0, 'coreName': '逆境', 'coreID': 721}\n"
     ]
    }
   ],
   "source": [
    "for pet in role.pet_list:\n",
    "    print(pet.__dict__)"
   ]
  },
  {
   "cell_type": "code",
   "execution_count": null,
   "metadata": {
    "collapsed": true
   },
   "outputs": [],
   "source": []
  }
 ],
 "metadata": {
  "kernelspec": {
   "display_name": "Python 3",
   "language": "python",
   "name": "python3"
  },
  "language_info": {
   "codemirror_mode": {
    "name": "ipython",
    "version": 3
   },
   "file_extension": ".py",
   "mimetype": "text/x-python",
   "name": "python",
   "nbconvert_exporter": "python",
   "pygments_lexer": "ipython3",
   "version": "3.6.1"
  }
 },
 "nbformat": 4,
 "nbformat_minor": 2
}
