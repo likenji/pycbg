{
 "cells": [
  {
   "cell_type": "code",
   "execution_count": 1,
   "metadata": {},
   "outputs": [],
   "source": [
    "import time\n",
    "from icecream import ic\n",
    "import requests,json \n",
    "from bs4 import BeautifulSoup       "
   ]
  },
  {
   "cell_type": "code",
   "execution_count": 2,
   "metadata": {},
   "outputs": [],
   "source": [
    "headers = {\n",
    "    'Connection': 'keep-alive',\n",
    "    'Upgrade-Insecure-Requests': '1',\n",
    "    'User-Agent': 'Mozilla/5.0 (Windows NT 10.0; WOW64) AppleWebKit/537.36 (KHTML, like Gecko) Chrome/68.0.3440.75 Safari/537.36',\n",
    "    'Accept': 'text/html,application/xhtml+xml,application/xml;q=0.9,image/webp,image/apng,*/*;q=0.8',\n",
    "    'Referer': 'https://xyq.cbg.163.com/',\n",
    "    'Accept-Encoding': 'gzip, deflate, br',\n",
    "    'Accept-Language': 'zh-CN,zh;q=0.9',\n",
    "}\n",
    "\n",
    "def get_cookies(server_id):\n",
    "    #all the following steps are to get a valid cookies\n",
    "    session = requests.Session()\n",
    "    session.get(\"https://xyq.cbg.163.com\", headers=headers,)\n",
    "    data={\n",
    "          \"act\": \"do_anon_auth\",\n",
    "          \"server_id\": server_id,\n",
    "    }\n",
    "    session.post(\"https://xyq.cbg.163.com/cgi-bin/login.py\", data=data, headers=headers)\n",
    "    return session.cookies \n",
    "\n",
    "cookies = get_cookies(79)"
   ]
  },
  {
   "cell_type": "code",
   "execution_count": 3,
   "metadata": {},
   "outputs": [
    {
     "ename": "ModuleNotFoundError",
     "evalue": "No module named 'pycbg'",
     "output_type": "error",
     "traceback": [
      "\u001b[0;31m---------------------------------------\u001b[0m",
      "\u001b[0;31mModuleNotFoundError\u001b[0mTraceback (most recent call last)",
      "\u001b[0;32m<ipython-input-3-55d8394f69e4>\u001b[0m in \u001b[0;36m<module>\u001b[0;34m()\u001b[0m\n\u001b[0;32m----> 1\u001b[0;31m \u001b[0;32mfrom\u001b[0m \u001b[0mpycbg\u001b[0m\u001b[0;34m.\u001b[0m\u001b[0mxyq\u001b[0m\u001b[0;34m.\u001b[0m\u001b[0mparser\u001b[0m \u001b[0;32mimport\u001b[0m \u001b[0mParser\u001b[0m\u001b[0;34m\u001b[0m\u001b[0m\n\u001b[0m\u001b[1;32m      2\u001b[0m \u001b[0;32mfrom\u001b[0m \u001b[0mpycbg\u001b[0m\u001b[0;34m.\u001b[0m\u001b[0mxyq\u001b[0m\u001b[0;34m.\u001b[0m\u001b[0mobject\u001b[0m\u001b[0;34m.\u001b[0m\u001b[0mxyqObject\u001b[0m \u001b[0;32mimport\u001b[0m \u001b[0;34m*\u001b[0m\u001b[0;34m\u001b[0m\u001b[0m\n\u001b[1;32m      3\u001b[0m \u001b[0mp\u001b[0m \u001b[0;34m=\u001b[0m \u001b[0mParser\u001b[0m\u001b[0;34m(\u001b[0m\u001b[0;34m)\u001b[0m\u001b[0;34m\u001b[0m\u001b[0m\n",
      "\u001b[0;31mModuleNotFoundError\u001b[0m: No module named 'pycbg'"
     ]
    }
   ],
   "source": [
    "from pycbg.xyq.parser import Parser\n",
    "from pycbg.xyq.object.xyqObject import *\n",
    "p = Parser()"
   ]
  },
  {
   "cell_type": "code",
   "execution_count": null,
   "metadata": {},
   "outputs": [],
   "source": [
    "role_urls = []\n",
    "for page in range(1):\n",
    "    params = (\n",
    "    ('act', 'search_role'),\n",
    "    ('page', page),\n",
    "    ('query_order', 'collect_num DESC')\n",
    ")\n",
    "\n",
    "    response = requests.get('https://xyq.cbg.163.com/cgi-bin/query.py', headers=headers, params=params, cookies=cookies)\n",
    "    response.encoding = \"GBK\"\n",
    "    bsobj = BeautifulSoup(response.text, \"html.parser\")\n",
    "    role_info = bsobj.findAll(\"a\",{\"class\":\"soldImg\"})\n",
    "    role_urls.extend([info[\"href\"] for info in role_info]) "
   ]
  },
  {
   "cell_type": "code",
   "execution_count": null,
   "metadata": {},
   "outputs": [],
   "source": [
    "role_list = []\n",
    "role_desc_list = []    \n",
    "for url in role_urls[:]:\n",
    "    response = requests.get(url, cookies=cookies)\n",
    "    response.encoding = \"GBK\"\n",
    "    bsobj = BeautifulSoup(response.text, \"html.parser\")\n",
    "    role_desc = bsobj.findAll(\"textarea\", {\"id\":\"equip_desc_value\"})[0].text\n",
    "    role_dict = eval(p.desc_proprocess(role_desc))\n",
    "    role_desc_list.append(role_desc)\n",
    "    role=p.parse_role(role_desc)\n",
    "    role_list.append(role)"
   ]
  },
  {
   "cell_type": "code",
   "execution_count": null,
   "metadata": {},
   "outputs": [],
   "source": [
    "for equip in role.equip_list:\n",
    "    print(equip.__dict__)"
   ]
  },
  {
   "cell_type": "code",
   "execution_count": null,
   "metadata": {},
   "outputs": [],
   "source": [
    "for pet in role.pet_list:\n",
    "    print(pet.__dict__)"
   ]
  },
  {
   "cell_type": "code",
   "execution_count": null,
   "metadata": {},
   "outputs": [],
   "source": []
  }
 ],
 "metadata": {
  "kernelspec": {
   "display_name": "Python 3",
   "language": "python",
   "name": "python3"
  },
  "language_info": {
   "codemirror_mode": {
    "name": "ipython",
    "version": 3
   },
   "file_extension": ".py",
   "mimetype": "text/x-python",
   "name": "python",
   "nbconvert_exporter": "python",
   "pygments_lexer": "ipython3",
   "version": "3.6.4"
  }
 },
 "nbformat": 4,
 "nbformat_minor": 2
}
