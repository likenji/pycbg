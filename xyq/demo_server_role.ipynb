{
 "cells": [
  {
   "cell_type": "code",
   "execution_count": 1,
   "metadata": {
    "collapsed": true
   },
   "outputs": [],
   "source": [
    "import time\n",
    "from icecream import ic\n",
    "import requests,json \n",
    "from bs4 import BeautifulSoup       "
   ]
  },
  {
   "cell_type": "code",
   "execution_count": 2,
   "metadata": {
    "collapsed": true
   },
   "outputs": [],
   "source": [
    "headers = {\n",
    "    'Connection': 'keep-alive',\n",
    "    'Upgrade-Insecure-Requests': '1',\n",
    "    'User-Agent': 'Mozilla/5.0 (Windows NT 10.0; WOW64) AppleWebKit/537.36 (KHTML, like Gecko) Chrome/68.0.3440.75 Safari/537.36',\n",
    "    'Accept': 'text/html,application/xhtml+xml,application/xml;q=0.9,image/webp,image/apng,*/*;q=0.8',\n",
    "    'Referer': 'https://xyq.cbg.163.com/',\n",
    "    'Accept-Encoding': 'gzip, deflate, br',\n",
    "    'Accept-Language': 'zh-CN,zh;q=0.9',\n",
    "}\n",
    "\n",
    "def get_cookies(server_id):\n",
    "    #all the following steps are to get a valid cookies\n",
    "    session = requests.Session()\n",
    "    session.get(\"https://xyq.cbg.163.com\", headers=headers,)\n",
    "    data={\n",
    "          \"act\": \"do_anon_auth\",\n",
    "          \"server_id\": server_id,\n",
    "    }\n",
    "    session.post(\"https://xyq.cbg.163.com/cgi-bin/login.py\", data=data, headers=headers)\n",
    "    return session.cookies \n",
    "\n",
    "cookies = get_cookies(79)"
   ]
  },
  {
   "cell_type": "code",
   "execution_count": 3,
   "metadata": {
    "scrolled": true
   },
   "outputs": [],
   "source": [
    "from pycbg.xyq.parser import Parser\n",
    "from pycbg.xyq.object.xyqObject import *\n",
    "p = Parser()"
   ]
  },
  {
   "cell_type": "code",
   "execution_count": 4,
   "metadata": {
    "collapsed": true
   },
   "outputs": [],
   "source": [
    "role_urls = []\n",
    "for page in range(1):\n",
    "    params = (\n",
    "    ('act', 'search_role'),\n",
    "    ('page', page),\n",
    "    ('query_order', 'collect_num DESC')\n",
    ")\n",
    "\n",
    "    response = requests.get('https://xyq.cbg.163.com/cgi-bin/query.py', headers=headers, params=params, cookies=cookies)\n",
    "    response.encoding = \"GBK\"\n",
    "    bsobj = BeautifulSoup(response.text, \"html.parser\")\n",
    "    role_info = bsobj.findAll(\"a\",{\"class\":\"soldImg\"})\n",
    "    role_urls.extend([info[\"href\"] for info in role_info]) "
   ]
  },
  {
   "cell_type": "code",
   "execution_count": 5,
   "metadata": {},
   "outputs": [
    {
     "name": "stdout",
     "output_type": "stream",
     "text": [
      "0\n",
      "https://xyq.cbg.163.com/equip?s=79&eid=201807282000113-79-J872QGAUCAJZJ&equip_refer=33&view_loc=search_cond\n",
      "<Response [200]>\n",
      "1\n",
      "https://xyq.cbg.163.com/equip?s=79&eid=201807261900113-79-7VDT6VPQJE1ZA&equip_refer=33&view_loc=search_cond\n",
      "<Response [200]>\n",
      "2\n",
      "https://xyq.cbg.163.com/equip?s=79&eid=201806231800113-79-VTGMYJKDV5LQQ&equip_refer=33&view_loc=search_cond\n",
      "<Response [200]>\n",
      "3\n",
      "https://xyq.cbg.163.com/equip?s=79&eid=201806080000113-79-QOOVLIRIFMYB1&equip_refer=33&view_loc=search_cond\n",
      "<Response [200]>\n",
      "4\n",
      "https://xyq.cbg.163.com/equip?s=79&eid=201808202100113-79-ZTCO3GZDR6ZBJ&equip_refer=33&view_loc=search_cond\n",
      "<Response [200]>\n",
      "5\n",
      "https://xyq.cbg.163.com/equip?s=79&eid=201807241900113-79-9SCSFKMVWQLAS&equip_refer=33&view_loc=search_cond\n",
      "<Response [200]>\n",
      "6\n",
      "https://xyq.cbg.163.com/equip?s=79&eid=201706171600113-79-7XXFOVVUP9UC2&equip_refer=33&view_loc=search_cond\n",
      "<Response [200]>\n",
      "17320\n",
      "7\n",
      "https://xyq.cbg.163.com/equip?s=79&eid=201807211900113-79-YDMSEDPBGFPOA&equip_refer=33&view_loc=search_cond\n",
      "<Response [200]>\n",
      "8\n",
      "https://xyq.cbg.163.com/equip?s=79&eid=201808022300113-79-RLLCXGBPV3UIT&equip_refer=33&view_loc=search_cond\n",
      "<Response [200]>\n",
      "9\n",
      "https://xyq.cbg.163.com/equip?s=79&eid=201808170800113-79-YKAFLXJBCF7EE&equip_refer=33&view_loc=search_cond\n",
      "<Response [200]>\n",
      "10\n",
      "https://xyq.cbg.163.com/equip?s=79&eid=201808051300113-79-E4UF29SN00KEU&equip_refer=33&view_loc=search_cond\n",
      "<Response [200]>\n",
      "11\n",
      "https://xyq.cbg.163.com/equip?s=79&eid=201803071600113-79-SBZISOFWBBDL0&equip_refer=33&view_loc=search_cond\n",
      "<Response [200]>\n",
      "12\n",
      "https://xyq.cbg.163.com/equip?s=79&eid=201807082300113-79-NYJ8KXAOHYCV7&equip_refer=33&view_loc=search_cond\n",
      "<Response [200]>\n",
      "17320\n",
      "13\n",
      "https://xyq.cbg.163.com/equip?s=79&eid=201808092200113-79-HFWKRJSOSYCDR&equip_refer=33&view_loc=search_cond\n",
      "<Response [200]>\n",
      "14\n",
      "https://xyq.cbg.163.com/equip?s=79&eid=201808182300113-79-G9PF803VATCSK&equip_refer=33&view_loc=search_cond\n",
      "<Response [200]>\n"
     ]
    }
   ],
   "source": [
    "role_list = []\n",
    "role_desc_list = []    \n",
    "for index,url in enumerate(role_urls[:]):\n",
    "    print(index)\n",
    "    print(url)\n",
    "    response = requests.get(url, cookies=cookies)\n",
    "    print(response)\n",
    "    response.encoding = \"GBK\"\n",
    "    bsobj = BeautifulSoup(response.text, \"html.parser\")\n",
    "    role_desc = bsobj.findAll(\"textarea\", {\"id\":\"equip_desc_value\"})[0].text\n",
    "    role_dict = eval(p.desc_proprocess(role_desc))\n",
    "    role_desc_list.append(role_desc)\n",
    "    role=p.parse_role(role_desc)\n",
    "    role_list.append(role)"
   ]
  },
  {
   "cell_type": "code",
   "execution_count": 6,
   "metadata": {},
   "outputs": [
    {
     "name": "stdout",
     "output_type": "stream",
     "text": [
      "{'attrs_list': [['等级', 140], ['抵抗封印等级', 36], ['格挡值', 34], ['气血', 114], ['防御', 28]], 'durance': 437, 'failure': 1, 'gemLevel': 8, 'typeID': 27205, 'lock': 1, 'lockNew': 0}\n",
      "{'level': 115, 'DMG': 59, 'DEF': 107, 'loc': 3, 'durance': 282, 'suitSkill': '高级吸血', 'gemType': '气血', 'gemLevel': 7, 'typeID': 9112, 'lock': 0, 'lockNew': 9}\n",
      "{'attrs_list': [['等级', 140], ['伤害', 36], ['法术暴击等级', 15], ['法术伤害', 14], ['法术伤害', 18]], 'durance': 34, 'failure': 1, 'gemLevel': 8, 'typeID': 27005, 'lock': 1, 'lockNew': 9}\n",
      "{'attrs_list': [['等级', 140], ['法术伤害', 33], ['伤害', 16], ['法术伤害', 20], ['法术暴击等级', 21]], 'durance': 197, 'gemLevel': 7, 'typeID': 27105, 'lock': 1, 'lockNew': 0}\n",
      "{'gemType': ['舍利子'], 'specialEffect': [], 'meltDict': {}, 'level': 140, 'DEF': 297, 'durance': 286, 'failure': 2, 'gemLevel': 14, 'suitSkill': '变身术之星灵仙子', 'hole': 5, 'totemCombo': '隔山打牛', 'creator': '雨中燃烧的泪强化打造', 'typeID': 2656, 'lock': 1, 'lockNew': 0}\n",
      "{'gemType': ['太阳石'], 'specialEffect': ['天宫专用'], 'meltDict': {}, 'level': 160, 'accurateP': 617, 'DMG': 722, 'durance': 258, 'failure': 1, 'gemLevel': 12, 'hole': 5, 'totemCombo': '高山流水', 'creator': '白点点°强化打造', 'typeID': 1580, 'lock': 1, 'lockNew': 9}\n",
      "{'gemType': ['月亮石'], 'specialEffect': [], 'meltDict': {}, 'level': 140, 'DEF': 245, 'MP': 152, 'durance': 105, 'failure': 1, 'gemLevel': 13, 'ultimateSkill': '放下屠刀', 'suitSkill': '变身术之净瓶女娲', 'hole': 5, 'totemCombo': '天罡气符石', 'creator': '′如此平淡°强化打造', 'typeID': 2556, 'lock': 1, 'lockNew': 0}\n",
      "{'gemType': ['黑宝石'], 'specialEffect': [], 'meltDict': {}, 'level': 140, 'DEF': 78, 'SPD_P': 54, 'durance': 135, 'gemLevel': 14, 'ultimateSkill': '四海升平', 'suitSkill': '变身术之净瓶女娲', 'hole': 5, 'totemCombo': '百无禁忌', 'creator': '咆哮の龙王强化打造', 'typeID': 2756, 'lock': 1, 'lockNew': 9}\n",
      "{'attrs_list': [['等级', 140], ['速度', 26], ['格挡值', 30], ['格挡值', 31], ['气血', 110]], 'durance': 332, 'failure': 1, 'gemLevel': 8, 'typeID': 27305, 'lock': 1, 'lockNew': 0}\n",
      "{'gemType': ['光芒石'], 'specialEffect': ['暴怒'], 'meltDict': {}, 'level': 150, 'DEF': 88, 'HP': 805, 'durance': 192, 'failure': 1, 'gemLevel': 12, 'ultimateSkill': '光辉之甲', 'suitSkill': '变身术之净瓶女娲', 'hole': 5, 'totemCombo': '隔山打牛', 'creator': '我爷爷的爷爷强化打造', 'typeID': 2957, 'lock': 1, 'lockNew': 0}\n",
      "{'gemType': ['舍利子'], 'specialEffect': [], 'meltDict': {}, 'level': 160, 'AP': 330, 'durance': 353, 'gemLevel': 13, 'suitSkill': '变身术之雨师', 'hole': 5, 'totemCombo': '清明自在符石', 'creator': '少豹子强化打造', 'typeID': 2858, 'lock': 1, 'lockNew': 0}\n"
     ]
    }
   ],
   "source": [
    "for equip in role.equip_list:\n",
    "    print(equip.__dict__)"
   ]
  },
  {
   "cell_type": "code",
   "execution_count": 7,
   "metadata": {},
   "outputs": [
    {
     "name": "stdout",
     "output_type": "stream",
     "text": [
      "{'skillList': ['573', '578', '424', '661', '428', '577', '403'], 'coreDict': {907: 5, 928: 1, 905: 5, 906: 5, 936: 5, 904: 5}, 'equip1': <pycbg.xyq.object.xyqObject.Equipment_pet object at 0x00000198C5D042B0>, 'equip2': <pycbg.xyq.object.xyqObject.Equipment_pet object at 0x00000198C5D04048>, 'equip3': <pycbg.xyq.object.xyqObject.Equipment_pet object at 0x00000198C5D041D0>, 'equip4': <pycbg.xyq.object.xyqObject.Equipment_pet object at 0x00000198C5D04080>, 'lock': 0, 'lockNew': 0, 'typeID': 102246, 'level': 180, 'DRNC': 4688, 'summon_color': 1, 'realColor': 5, 'APSkill': 428, 'AD_APTTD': 970, 'DEF_APTTD': 1324, 'raw_growth': 1272, 'growth': 1.272, 'MP_APTTD': 2015, 'HP_APTTD': 3550, 'SPD_APTTD': 765, 'MS_APTTD': 1086, 'used_yuanxiao': 10, 'used_ruyidan': 0, 'used_qianjinlu': 10, 'used_lianshou': 5, 'used_shuijinggao': 0, 'HP_P': 474, 'MP_P': 1038, 'AD_P': 212, 'DEF_P': 207, 'SPD_P': 158, 'unallocated_P': 0, 'lingxing': 101, 'tmp_lingxing': 101, 'jinjie_cd': 0, 'left_qlxl': 1, 'coreName': '瞬法', 'coreID': 717}\n",
      "{'skillList': ['405', '417', '407', '420', '414', '403', '422'], 'coreDict': {929: 5, 907: 5, 916: 5, 913: 5, 904: 5}, 'equip1': <pycbg.xyq.object.xyqObject.Equipment_pet object at 0x00000198C5D04390>, 'equip2': <pycbg.xyq.object.xyqObject.Equipment_pet object at 0x00000198C5D04278>, 'equip3': <pycbg.xyq.object.xyqObject.Equipment_pet object at 0x00000198C5D04128>, 'equip4': <pycbg.xyq.object.xyqObject.Equipment_pet object at 0x00000198C5D04320>, 'lock': 1, 'lockNew': 0, 'typeID': 102128, 'level': 180, 'DRNC': 1483, 'summon_color': 1, 'realColor': 5, 'APSkill': 0, 'AD_APTTD': 1012, 'DEF_APTTD': 1338, 'raw_growth': 1276, 'growth': 1.276, 'MP_APTTD': 1940, 'HP_APTTD': 4880, 'SPD_APTTD': 1563, 'MS_APTTD': 1474, 'used_yuanxiao': 10, 'used_ruyidan': 0, 'used_qianjinlu': 9, 'used_lianshou': 0, 'used_shuijinggao': 0, 'HP_P': 760, 'MP_P': 190, 'AD_P': 190, 'DEF_P': 207, 'SPD_P': 839, 'unallocated_P': 0, 'lingxing': 99, 'tmp_lingxing': 99, 'jinjie_cd': 0, 'left_qlxl': 0, 'coreName': '逆境', 'coreID': 721}\n",
      "{'skillList': ['303', '328', '579', '435', '422'], 'coreDict': {907: 5, 916: 5, 913: 5, 904: 5}, 'equip1': <pycbg.xyq.object.xyqObject.Equipment_pet object at 0x00000198C5D04208>, 'equip2': <pycbg.xyq.object.xyqObject.Equipment_pet object at 0x00000198C5D043C8>, 'equip3': <pycbg.xyq.object.xyqObject.Equipment_pet object at 0x00000198C5D044E0>, 'equip4': <pycbg.xyq.object.xyqObject.Equipment_pet object at 0x00000198C5D04240>, 'lock': 1, 'lockNew': 0, 'typeID': 102607, 'level': 180, 'DRNC': 1856, 'summon_color': 0, 'realColor': 2, 'APSkill': 328, 'AD_APTTD': 1542, 'DEF_APTTD': 1656, 'raw_growth': 1283, 'growth': 1.283, 'MP_APTTD': 3186, 'HP_APTTD': 6117, 'SPD_APTTD': 1448, 'MS_APTTD': 1614, 'used_yuanxiao': 0, 'used_ruyidan': 0, 'used_qianjinlu': 10, 'used_lianshou': 0, 'used_shuijinggao': 0, 'HP_P': 793, 'MP_P': 190, 'AD_P': 192, 'DEF_P': 456, 'SPD_P': 521, 'unallocated_P': 0, 'lingxing': 94, 'tmp_lingxing': 94, 'jinjie_cd': 0, 'left_qlxl': 0, 'coreName': '护佑', 'coreID': 715}\n",
      "{'skillList': ['301', '552', '328', '579', '435', '414', '403', '422'], 'coreDict': {907: 5, 916: 5, 909: 5, 904: 5}, 'equip1': <pycbg.xyq.object.xyqObject.Equipment_pet object at 0x00000198C5D04550>, 'equip2': <pycbg.xyq.object.xyqObject.Equipment_pet object at 0x00000198C5D04358>, 'equip3': <pycbg.xyq.object.xyqObject.Equipment_pet object at 0x00000198C5D045C0>, 'equip4': <pycbg.xyq.object.xyqObject.Equipment_pet object at 0x00000198C5D04400>, 'lock': 0, 'lockNew': 0, 'typeID': 102107, 'level': 180, 'DRNC': 6336, 'summon_color': 1, 'realColor': 3, 'APSkill': 328, 'AD_APTTD': 1280, 'DEF_APTTD': 1441, 'raw_growth': 1256, 'growth': 1.256, 'MP_APTTD': 2048, 'HP_APTTD': 3975, 'SPD_APTTD': 1351, 'MS_APTTD': 1161, 'used_yuanxiao': 10, 'used_ruyidan': 7, 'used_qianjinlu': 10, 'used_lianshou': 5, 'used_shuijinggao': 0, 'HP_P': 821, 'MP_P': 204, 'AD_P': 198, 'DEF_P': 441, 'SPD_P': 568, 'unallocated_P': 0, 'lingxing': 110, 'tmp_lingxing': 110, 'jinjie_cd': 0, 'left_qlxl': 0, 'coreName': '抗法', 'coreID': 704, 'jj_HP_P': 10, 'jj_MP_P': 14, 'jj_AD_P': 8, 'jj_DEF_P': 11, 'jj_SPD_P': 14}\n",
      "{'skillList': ['405', '301', '308', '411', '407', '434', '425', '422'], 'coreDict': {919: 5, 902: 5, 901: 5}, 'equip1': <pycbg.xyq.object.xyqObject.Equipment_pet object at 0x00000198C5D04710>, 'equip2': <pycbg.xyq.object.xyqObject.Equipment_pet object at 0x00000198C5D04630>, 'equip3': <pycbg.xyq.object.xyqObject.Equipment_pet object at 0x00000198C5D047B8>, 'equip4': <pycbg.xyq.object.xyqObject.Equipment_pet object at 0x00000198C5D046D8>, 'lock': 1, 'lockNew': 0, 'typeID': 102077, 'level': 180, 'DRNC': 14930, 'summon_color': 1, 'realColor': 4, 'APSkill': 0, 'AD_APTTD': 1553, 'DEF_APTTD': 1019, 'raw_growth': 1266, 'growth': 1.266, 'MP_APTTD': 2186, 'HP_APTTD': 4166, 'SPD_APTTD': 1475, 'MS_APTTD': 1723, 'used_yuanxiao': 0, 'used_ruyidan': 0, 'used_qianjinlu': 10, 'used_lianshou': 0, 'used_shuijinggao': 0, 'HP_P': 331, 'MP_P': 190, 'AD_P': 963, 'DEF_P': 190, 'SPD_P': 457, 'unallocated_P': 0, 'lingxing': 106, 'tmp_lingxing': 106, 'jinjie_cd': 0, 'left_qlxl': 0, 'coreName': '瞬击', 'coreID': 716}\n",
      "{'skillList': ['411', '407', '401', '404', '425', '416', '422'], 'coreDict': {907: 5, 901: 5, 913: 5, 935: 5, 904: 5}, 'equip1': <pycbg.xyq.object.xyqObject.Equipment_pet object at 0x00000198C5D049B0>, 'equip2': <pycbg.xyq.object.xyqObject.Equipment_pet object at 0x00000198C5D04780>, 'equip3': <pycbg.xyq.object.xyqObject.Equipment_pet object at 0x00000198C5D04828>, 'equip4': <pycbg.xyq.object.xyqObject.Equipment_pet object at 0x00000198C5D045F8>, 'lock': 0, 'lockNew': 0, 'typeID': 102128, 'level': 180, 'DRNC': 3351, 'summon_color': 1, 'realColor': 6, 'APSkill': 0, 'AD_APTTD': 1653, 'DEF_APTTD': 1010, 'raw_growth': 1287, 'growth': 1.287, 'MP_APTTD': 1805, 'HP_APTTD': 4196, 'SPD_APTTD': 1510, 'MS_APTTD': 1031, 'used_yuanxiao': 10, 'used_ruyidan': 0, 'used_qianjinlu': 10, 'used_lianshou': 0, 'used_shuijinggao': 0, 'HP_P': 628, 'MP_P': 190, 'AD_P': 749, 'DEF_P': 190, 'SPD_P': 387, 'unallocated_P': 0, 'lingxing': 107, 'tmp_lingxing': 107, 'jinjie_cd': 0, 'left_qlxl': 0, 'coreName': '力破', 'coreID': 706}\n",
      "{'skillList': ['573', '310', '411', '578', '429', '424', '661'], 'coreDict': {907: 5, 928: 5, 905: 5, 904: 5, 906: 5, 936: 5}, 'equip1': <pycbg.xyq.object.xyqObject.Equipment_pet object at 0x00000198C5D04B00>, 'equip2': <pycbg.xyq.object.xyqObject.Equipment_pet object at 0x00000198C5D04518>, 'equip3': <pycbg.xyq.object.xyqObject.Equipment_pet object at 0x00000198C5D04860>, 'equip4': <pycbg.xyq.object.xyqObject.Equipment_pet object at 0x00000198C5D048D0>, 'lock': 1, 'lockNew': 0, 'typeID': 102245, 'level': 180, 'DRNC': 2641, 'summon_color': 1, 'realColor': 3, 'APSkill': 429, 'AD_APTTD': 1080, 'DEF_APTTD': 1441, 'raw_growth': 1263, 'growth': 1.263, 'MP_APTTD': 2530, 'HP_APTTD': 5126, 'SPD_APTTD': 817, 'MS_APTTD': 851, 'used_yuanxiao': 10, 'used_ruyidan': 150, 'used_qianjinlu': 10, 'used_lianshou': 5, 'used_shuijinggao': 0, 'HP_P': 794, 'MP_P': 766, 'AD_P': 198, 'DEF_P': 300, 'SPD_P': 196, 'unallocated_P': 0, 'lingxing': 110, 'tmp_lingxing': 110, 'jinjie_cd': 0, 'left_qlxl': 0, 'coreName': '顺势', 'coreID': 712, 'jj_HP_P': 10, 'jj_MP_P': 12, 'jj_AD_P': 8, 'jj_DEF_P': 16, 'jj_SPD_P': 6}\n",
      "{'skillList': ['405', '408', '411', '434', '401', '404', '425', '403'], 'coreDict': {907: 5, 913: 5, 901: 5, 932: 5, 935: 5, 904: 5}, 'equip1': <pycbg.xyq.object.xyqObject.Equipment_pet object at 0x00000198C5D04978>, 'equip2': <pycbg.xyq.object.xyqObject.Equipment_pet object at 0x00000198C5D04A58>, 'equip3': <pycbg.xyq.object.xyqObject.Equipment_pet object at 0x00000198C5D04908>, 'equip4': <pycbg.xyq.object.xyqObject.Equipment_pet object at 0x00000198C5D04C18>, 'lock': 0, 'lockNew': 0, 'typeID': 102246, 'level': 180, 'DRNC': 11275, 'summon_color': 1, 'realColor': 5, 'APSkill': 0, 'AD_APTTD': 1633, 'DEF_APTTD': 1278, 'raw_growth': 1293, 'growth': 1.293, 'MP_APTTD': 1839, 'HP_APTTD': 4686, 'SPD_APTTD': 1042, 'MS_APTTD': 641, 'used_yuanxiao': 15, 'used_ruyidan': 21, 'used_qianjinlu': 10, 'used_lianshou': 5, 'used_shuijinggao': 5, 'HP_P': 1007, 'MP_P': 204, 'AD_P': 590, 'DEF_P': 220, 'SPD_P': 205, 'unallocated_P': 0, 'lingxing': 110, 'tmp_lingxing': 110, 'jinjie_cd': 0, 'left_qlxl': 0, 'coreName': '力破', 'coreID': 706, 'jj_HP_P': 10, 'jj_MP_P': 14, 'jj_AD_P': 8, 'jj_DEF_P': 16, 'jj_SPD_P': 15}\n",
      "{'skillList': ['405', '411', '435', '434', '401', '404', '425', '414', '416'], 'coreDict': {907: 5, 901: 5, 913: 5, 932: 5, 935: 5, 904: 5}, 'equip1': <pycbg.xyq.object.xyqObject.Equipment_pet object at 0x00000198C5D04BA8>, 'equip2': <pycbg.xyq.object.xyqObject.Equipment_pet object at 0x00000198C5D04A90>, 'equip3': <pycbg.xyq.object.xyqObject.Equipment_pet object at 0x00000198C5D049E8>, 'equip4': <pycbg.xyq.object.xyqObject.Equipment_pet object at 0x00000198C5D04B38>, 'lock': 1, 'lockNew': 0, 'typeID': 102246, 'level': 180, 'DRNC': 3577, 'summon_color': 1, 'realColor': 5, 'APSkill': 0, 'AD_APTTD': 1601, 'DEF_APTTD': 1469, 'raw_growth': 1300, 'growth': 1.3, 'MP_APTTD': 1612, 'HP_APTTD': 3716, 'SPD_APTTD': 1118, 'MS_APTTD': 1380, 'used_yuanxiao': 15, 'used_ruyidan': 150, 'used_qianjinlu': 10, 'used_lianshou': 0, 'used_shuijinggao': 5, 'HP_P': 892, 'MP_P': 202, 'AD_P': 608, 'DEF_P': 268, 'SPD_P': 201, 'unallocated_P': 0, 'lingxing': 110, 'tmp_lingxing': 110, 'jinjie_cd': 0, 'left_qlxl': 0, 'coreName': '力破', 'coreID': 706, 'jj_HP_P': 16, 'jj_MP_P': 12, 'jj_AD_P': 8, 'jj_DEF_P': 11, 'jj_SPD_P': 11}\n",
      "{'skillList': ['405', '408', '411', '435', '434', '401', '404', '425', '414'], 'coreDict': {907: 5, 901: 5, 932: 5, 935: 1, 904: 5}, 'equip1': <pycbg.xyq.object.xyqObject.Equipment_pet object at 0x00000198C5D04C50>, 'equip2': <pycbg.xyq.object.xyqObject.Equipment_pet object at 0x00000198C5D04C88>, 'equip3': <pycbg.xyq.object.xyqObject.Equipment_pet object at 0x00000198C5D04CC0>, 'equip4': <pycbg.xyq.object.xyqObject.Equipment_pet object at 0x00000198C5D04DA0>, 'lock': 1, 'lockNew': 0, 'typeID': 102128, 'level': 180, 'DRNC': 22258, 'summon_color': 0, 'realColor': 0, 'APSkill': 0, 'AD_APTTD': 1603, 'DEF_APTTD': 1421, 'raw_growth': 1287, 'growth': 1.287, 'MP_APTTD': 1884, 'HP_APTTD': 4383, 'SPD_APTTD': 1098, 'MS_APTTD': 1258, 'used_yuanxiao': 15, 'used_ruyidan': 13, 'used_qianjinlu': 10, 'used_lianshou': 0, 'used_shuijinggao': 5, 'HP_P': 882, 'MP_P': 190, 'AD_P': 457, 'DEF_P': 415, 'SPD_P': 188, 'unallocated_P': 0, 'lingxing': 108, 'tmp_lingxing': 108, 'jinjie_cd': 0, 'left_qlxl': 0, 'coreName': '争锋', 'coreID': 707}\n",
      "{'skillList': ['573', '303', '328', '424', '306', '427', '417', '579', '578', '629', '577'], 'coreDict': {925: 5, 904: 5}, 'equip1': <pycbg.xyq.object.xyqObject.Equipment_pet object at 0x00000198C5D04D30>, 'equip2': <pycbg.xyq.object.xyqObject.Equipment_pet object at 0x00000198C5D04B70>, 'equip3': <pycbg.xyq.object.xyqObject.Equipment_pet object at 0x00000198C5D04AC8>, 'equip4': <pycbg.xyq.object.xyqObject.Equipment_pet object at 0x00000198C5D04D68>, 'lock': 0, 'lockNew': 0, 'typeID': 102178, 'level': 180, 'DRNC': 7845, 'summon_color': 1, 'realColor': 5, 'APSkill': 427, 'AD_APTTD': 1103, 'DEF_APTTD': 1441, 'raw_growth': 1202, 'growth': 1.202, 'MP_APTTD': 2691, 'HP_APTTD': 4087, 'SPD_APTTD': 770, 'MS_APTTD': 1417, 'used_yuanxiao': 0, 'used_ruyidan': 0, 'used_qianjinlu': 10, 'used_lianshou': 0, 'used_shuijinggao': 0, 'HP_P': 1134, 'MP_P': 204, 'AD_P': 236, 'DEF_P': 422, 'SPD_P': 190, 'unallocated_P': 0, 'lingxing': 102, 'tmp_lingxing': 102, 'jinjie_cd': 0, 'left_qlxl': 1, 'coreName': '逆境', 'coreID': 721}\n"
     ]
    }
   ],
   "source": [
    "for pet in role.pet_list:\n",
    "    print(pet.__dict__)"
   ]
  },
  {
   "cell_type": "code",
   "execution_count": 8,
   "metadata": {},
   "outputs": [
    {
     "name": "stdout",
     "output_type": "stream",
     "text": [
      "15\n"
     ]
    }
   ],
   "source": [
    "print(len(role_list))"
   ]
  },
  {
   "cell_type": "code",
   "execution_count": null,
   "metadata": {
    "collapsed": true
   },
   "outputs": [],
   "source": []
  }
 ],
 "metadata": {
  "kernelspec": {
   "display_name": "Python 3",
   "language": "python",
   "name": "python3"
  },
  "language_info": {
   "codemirror_mode": {
    "name": "ipython",
    "version": 3
   },
   "file_extension": ".py",
   "mimetype": "text/x-python",
   "name": "python",
   "nbconvert_exporter": "python",
   "pygments_lexer": "ipython3",
   "version": "3.6.1"
  }
 },
 "nbformat": 4,
 "nbformat_minor": 2
}
