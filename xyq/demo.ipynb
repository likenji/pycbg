{
 "cells": [
  {
   "cell_type": "code",
   "execution_count": 1,
   "metadata": {},
   "outputs": [
    {
     "name": "stdout",
     "output_type": "stream",
     "text": [
      "/usr/local/Cellar/python/3.6.4_4/Frameworks/Python.framework/Versions/3.6/lib/python3.6/site-packages\n"
     ]
    }
   ],
   "source": [
    "from distutils.sysconfig import get_python_lib\n",
    "print(get_python_lib())\n"
   ]
  },
  {
   "cell_type": "code",
   "execution_count": 2,
   "metadata": {},
   "outputs": [],
   "source": [
    "import time\n",
    "from icecream import ic\n",
    "import requests,json \n",
    "from bs4 import BeautifulSoup       "
   ]
  },
  {
   "cell_type": "code",
   "execution_count": 3,
   "metadata": {},
   "outputs": [],
   "source": [
    "headers = {\n",
    "    'Connection': 'keep-alive',\n",
    "    'Upgrade-Insecure-Requests': '1',\n",
    "    'User-Agent': 'Mozilla/5.0 (Windows NT 10.0; WOW64) AppleWebKit/537.36 (KHTML, like Gecko) Chrome/68.0.3440.75 Safari/537.36',\n",
    "    'Accept': 'text/html,application/xhtml+xml,application/xml;q=0.9,image/webp,image/apng,*/*;q=0.8',\n",
    "    'Referer': 'https://xyq.cbg.163.com/',\n",
    "    'Accept-Encoding': 'gzip, deflate, br',\n",
    "    'Accept-Language': 'zh-CN,zh;q=0.9',\n",
    "}\n",
    "\n",
    "def get_cookies(server_id):\n",
    "    #all the following steps are to get a valid cookies\n",
    "    session = requests.Session()\n",
    "    session.get(\"https://xyq.cbg.163.com\", headers=headers,)\n",
    "    data={\n",
    "          \"act\": \"do_anon_auth\",\n",
    "          \"server_id\": server_id,\n",
    "    }\n",
    "    session.post(\"https://xyq.cbg.163.com/cgi-bin/login.py\", data=data, headers=headers)\n",
    "    return session.cookies \n",
    "\n",
    "cookies = get_cookies(79)"
   ]
  },
  {
   "cell_type": "code",
   "execution_count": 4,
   "metadata": {},
   "outputs": [],
   "source": [
    "from pycbg.xyq.parser import Parser\n",
    "from pycbg.xyq.object.xyqObject import *\n",
    "p = Parser()"
   ]
  },
  {
   "cell_type": "code",
   "execution_count": 5,
   "metadata": {},
   "outputs": [],
   "source": [
    "role_urls = []\n",
    "for page in range(1):\n",
    "    params = (\n",
    "    ('act', 'search_role'),\n",
    "    ('page', page),\n",
    "    ('query_order', 'collect_num DESC')\n",
    ")\n",
    "\n",
    "    response = requests.get('https://xyq.cbg.163.com/cgi-bin/query.py', headers=headers, params=params, cookies=cookies)\n",
    "    response.encoding = \"GBK\"\n",
    "    bsobj = BeautifulSoup(response.text, \"html.parser\")\n",
    "    role_info = bsobj.findAll(\"a\",{\"class\":\"soldImg\"})\n",
    "    role_urls.extend([info[\"href\"] for info in role_info]) "
   ]
  },
  {
   "cell_type": "code",
   "execution_count": 6,
   "metadata": {},
   "outputs": [
    {
     "name": "stdout",
     "output_type": "stream",
     "text": [
      "0\n",
      "https://xyq.cbg.163.com/equip?s=79&eid=201807282000113-79-J872QGAUCAJZJ&equip_refer=33&view_loc=search_cond\n",
      "<Response [200]>\n",
      "1\n",
      "https://xyq.cbg.163.com/equip?s=79&eid=201807261900113-79-7VDT6VPQJE1ZA&equip_refer=33&view_loc=search_cond\n",
      "<Response [200]>\n",
      "2\n",
      "https://xyq.cbg.163.com/equip?s=79&eid=201806231800113-79-VTGMYJKDV5LQQ&equip_refer=33&view_loc=search_cond\n",
      "<Response [200]>\n",
      "3\n",
      "https://xyq.cbg.163.com/equip?s=79&eid=201806080000113-79-QOOVLIRIFMYB1&equip_refer=33&view_loc=search_cond\n",
      "<Response [200]>\n",
      "4\n",
      "https://xyq.cbg.163.com/equip?s=79&eid=201807241900113-79-9SCSFKMVWQLAS&equip_refer=33&view_loc=search_cond\n",
      "<Response [200]>\n",
      "5\n",
      "https://xyq.cbg.163.com/equip?s=79&eid=201706171600113-79-7XXFOVVUP9UC2&equip_refer=33&view_loc=search_cond\n",
      "<Response [200]>\n",
      "17320\n",
      "6\n",
      "https://xyq.cbg.163.com/equip?s=79&eid=201804062000113-79-E4HC1XKDHZKPS&equip_refer=33&view_loc=search_cond\n",
      "<Response [200]>\n",
      "7\n",
      "https://xyq.cbg.163.com/equip?s=79&eid=201808022300113-79-RLLCXGBPV3UIT&equip_refer=33&view_loc=search_cond\n",
      "<Response [200]>\n",
      "8\n",
      "https://xyq.cbg.163.com/equip?s=79&eid=201807211900113-79-YDMSEDPBGFPOA&equip_refer=33&view_loc=search_cond\n",
      "<Response [200]>\n",
      "9\n",
      "https://xyq.cbg.163.com/equip?s=79&eid=201803071600113-79-SBZISOFWBBDL0&equip_refer=33&view_loc=search_cond\n",
      "<Response [200]>\n",
      "10\n",
      "https://xyq.cbg.163.com/equip?s=79&eid=201808051300113-79-E4UF29SN00KEU&equip_refer=33&view_loc=search_cond\n",
      "<Response [200]>\n",
      "11\n",
      "https://xyq.cbg.163.com/equip?s=79&eid=201808051700113-79-NCNGEEL3YTPZC&equip_refer=33&view_loc=search_cond\n",
      "<Response [200]>\n",
      "12\n",
      "https://xyq.cbg.163.com/equip?s=79&eid=201808151200113-79-RV40BTDZ9ZJXX&equip_refer=33&view_loc=search_cond\n",
      "<Response [200]>\n",
      "13\n",
      "https://xyq.cbg.163.com/equip?s=79&eid=201808170800113-79-YKAFLXJBCF7EE&equip_refer=33&view_loc=search_cond\n",
      "<Response [200]>\n",
      "14\n",
      "https://xyq.cbg.163.com/equip?s=79&eid=201808092200113-79-HFWKRJSOSYCDR&equip_refer=33&view_loc=search_cond\n",
      "<Response [200]>\n"
     ]
    }
   ],
   "source": [
    "role_list = []\n",
    "role_desc_list = []    \n",
    "for index,url in enumerate(role_urls[:]):\n",
    "    print(index)\n",
    "    print(url)\n",
    "    response = requests.get(url, cookies=cookies)\n",
    "    print(response)\n",
    "    response.encoding = \"GBK\"\n",
    "    bsobj = BeautifulSoup(response.text, \"html.parser\")\n",
    "    role_desc = bsobj.findAll(\"textarea\", {\"id\":\"equip_desc_value\"})[0].text\n",
    "    role_dict = eval(p.desc_proprocess(role_desc))\n",
    "    role_desc_list.append(role_desc)\n",
    "    role=p.parse_role(role_desc)\n",
    "    role_list.append(role)"
   ]
  },
  {
   "cell_type": "code",
   "execution_count": 7,
   "metadata": {},
   "outputs": [
    {
     "name": "stdout",
     "output_type": "stream",
     "text": [
      "{'gemType': ['黑宝石'], 'specialEffect': [], 'meltDict': {}, 'level': 130, 'DEF': 70, 'HP': 305, 'durance': 254, 'gemLevel': 10, 'ultimateSkill': '笑里藏刀', 'hole': 5, 'totemCombo': '归元心法符石', 'creator': '狂神乱舞', 'typeID': 2955, 'lock': 0, 'lockNew': 0}\n",
      "{'gemType': [], 'specialEffect': [], 'meltDict': {}, 'level': 120, 'accurateP': 469, 'DMG': 427, 'durance': 500, 'ultimateSkill': '笑里藏刀', 'creator': 'う晚秋强化打造', 'typeID': 1062, 'lock': 0, 'lockNew': 0}\n",
      "{'gemType': ['月亮石'], 'specialEffect': [], 'meltDict': {}, 'level': 140, 'DEF': 138, 'MP': 154, 'durance': 460, 'gemLevel': 5, 'ultimateSkill': '破甲术', 'hole': 1, 'creator': '无±悔强化打造', 'typeID': 2566, 'lock': 0, 'lockNew': 0}\n",
      "{'gemType': ['月亮石', '光芒石'], 'specialEffect': ['永不磨损'], 'meltDict': {}, 'level': 140, 'DEF': 263, 'HP': 200, 'durance': 445, 'gemLevel': 7, 'hole': 4, 'totemCombo': '凤舞九天', 'creator': '神器の制造强化打造', 'typeID': 2666, 'lock': 0, 'lockNew': 0}\n",
      "{'gemType': [], 'specialEffect': ['永不磨损'], 'meltDict': {}, 'level': 130, 'accurateP': 531, 'DMG': 445, 'durance': 500, 'creator': 'う晚秋强化打造', 'typeID': 2062, 'lock': 0, 'lockNew': 0}\n",
      "{'gemType': [], 'specialEffect': [], 'meltDict': {}, 'level': 130, 'accurateP': 497, 'DMG': 412, 'durance': 142, 'ultimateSkill': '流云诀', 'hole': 2, 'creator': '我是一只小虎', 'typeID': 2052, 'lock': 0, 'lockNew': 0}\n",
      "{'gemType': ['月亮石'], 'specialEffect': ['永不磨损'], 'meltDict': {}, 'level': 130, 'DEF': 155, 'MP': 148, 'durance': 410, 'gemLevel': 7, 'hole': 4, 'totemCombo': '凤舞九天', 'creator': 'Sòaρㄨ皂皂', 'typeID': 2565, 'lock': 0, 'lockNew': 0}\n",
      "{'gemType': ['黑宝石'], 'specialEffect': ['永不磨损'], 'meltDict': {}, 'level': 130, 'DEF': 73, 'SPD_P': 47, 'durance': 516, 'gemLevel': 8, 'suitSkill': '变身术之牛头', 'hole': 4, 'totemCombo': '无心插柳', 'creator': '就叫小爆吧强化打造', 'typeID': 2755, 'lock': 0, 'lockNew': 0}\n",
      "{'attrs_list': [['等级', 80], ['速度', 15], ['抵抗封印等级', 17], ['抵抗封印等级', 17], ['抗法术暴击等级', 19]], 'durance': 476, 'typeID': 27302, 'lock': 0, 'lockNew': 0}\n",
      "{'gemType': ['光芒石'], 'specialEffect': [], 'meltDict': {}, 'level': 130, 'DEF': 73, 'HP': 551, 'durance': 432, 'failure': 1, 'gemLevel': 6, 'creator': '≈夏之斯语＊强化打造', 'typeID': 2955, 'lock': 0, 'lockNew': 0}\n",
      "{'gemType': [], 'specialEffect': ['专注'], 'meltDict': {}, 'level': 80, 'AP': 77, 'durance': 494, 'typeID': 2815, 'lock': 0, 'lockNew': 0}\n"
     ]
    }
   ],
   "source": [
    "for equip in role.equip_list:\n",
    "    print(equip.__dict__)"
   ]
  },
  {
   "cell_type": "code",
   "execution_count": 8,
   "metadata": {},
   "outputs": [
    {
     "name": "stdout",
     "output_type": "stream",
     "text": [
      "{'skillList': ['573', '429', '408', '411', '424'], 'coreDict': {931: 5, 905: 5, 904: 5, 936: 5}, 'equip1': <pycbg.xyq.object.xyqObject.Equipment_pet object at 0x10c02ee80>, 'equip2': <pycbg.xyq.object.xyqObject.Equipment_pet object at 0x10c02edd8>, 'equip3': <pycbg.xyq.object.xyqObject.Equipment_pet object at 0x10c02ed68>, 'equip4': <pycbg.xyq.object.xyqObject.Equipment_pet object at 0x10c02ee48>, 'lock': 0, 'lockNew': 0, 'typeID': 102214, 'level': 180, 'DRNC': 6300, 'summon_color': 0, 'realColor': 0, 'APSkill': 429, 'AD_APTTD': 1255, 'DEF_APTTD': 1288, 'raw_growth': 1254, 'growth': 1.254, 'MP_APTTD': 2820, 'HP_APTTD': 4040, 'SPD_APTTD': 1227, 'MS_APTTD': 1088, 'used_yuanxiao': 0, 'used_ruyidan': 0, 'used_qianjinlu': 0, 'used_lianshou': 0, 'used_shuijinggao': 0, 'HP_P': 706, 'MP_P': 780, 'AD_P': 190, 'DEF_P': 213, 'SPD_P': 197, 'unallocated_P': 0, 'lingxing': 93, 'tmp_lingxing': 93, 'jinjie_cd': 0, 'left_qlxl': 0, 'coreName': '', 'coreID': 0}\n",
      "{'skillList': ['316', '301', '305', '304'], 'coreDict': {907: 5, 903: 5, 901: 5, 902: 5, 932: 5, 904: 5}, 'equip1': <pycbg.xyq.object.xyqObject.Equipment_pet object at 0x10c02efd0>, 'equip2': <pycbg.xyq.object.xyqObject.Equipment_pet object at 0x10c02ef60>, 'equip3': <pycbg.xyq.object.xyqObject.Equipment_pet object at 0x10c02eeb8>, 'equip4': <pycbg.xyq.object.xyqObject.Equipment_pet object at 0x10c02ef28>, 'lock': 0, 'lockNew': 0, 'typeID': 102746, 'level': 180, 'DRNC': 9568, 'summon_color': 0, 'realColor': 1, 'APSkill': 0, 'AD_APTTD': 1642, 'DEF_APTTD': 1495, 'raw_growth': 1272, 'growth': 1.272, 'MP_APTTD': 2060, 'HP_APTTD': 4509, 'SPD_APTTD': 1451, 'MS_APTTD': 1487, 'used_yuanxiao': 0, 'used_ruyidan': 0, 'used_qianjinlu': 0, 'used_lianshou': 0, 'used_shuijinggao': 0, 'HP_P': 247, 'MP_P': 190, 'AD_P': 1277, 'DEF_P': 194, 'SPD_P': 190, 'unallocated_P': 0, 'lingxing': 99, 'tmp_lingxing': 99, 'jinjie_cd': 0, 'left_qlxl': 0, 'coreName': '', 'coreID': 0}\n",
      "{'skillList': ['334', '422', '425', '411', '401'], 'coreDict': {907: 1, 901: 1, 924: 1}, 'equip1': <pycbg.xyq.object.xyqObject.Equipment_pet object at 0x10c128128>, 'equip2': <pycbg.xyq.object.xyqObject.Equipment_pet object at 0x10c128048>, 'equip3': <pycbg.xyq.object.xyqObject.Equipment_pet object at 0x10c128080>, 'equip4': <pycbg.xyq.object.xyqObject.Equipment_pet object at 0x10c1280f0>, 'lock': 0, 'lockNew': 0, 'typeID': 102021, 'level': 180, 'DRNC': 65432, 'summon_color': 0, 'realColor': 0, 'APSkill': 0, 'AD_APTTD': 1400, 'DEF_APTTD': 1400, 'raw_growth': 1250, 'growth': 1.25, 'MP_APTTD': 2500, 'HP_APTTD': 4500, 'SPD_APTTD': 1200, 'MS_APTTD': 1200, 'used_yuanxiao': 0, 'used_ruyidan': 0, 'used_qianjinlu': 0, 'used_lianshou': 0, 'used_shuijinggao': 0, 'HP_P': 200, 'MP_P': 200, 'AD_P': 1100, 'DEF_P': 200, 'SPD_P': 200, 'unallocated_P': 0, 'lingxing': 0, 'tmp_lingxing': 0, 'jinjie_cd': 0, 'left_qlxl': 7, 'coreName': '', 'coreID': 0}\n",
      "{'skillList': ['334', '411', '301', '325', '313', '595', '404'], 'coreDict': {907: 5, 913: 5, 901: 5, 902: 5, 904: 5}, 'equip1': <pycbg.xyq.object.xyqObject.Equipment_pet object at 0x10c128160>, 'equip2': <pycbg.xyq.object.xyqObject.Equipment_pet object at 0x10c128198>, 'equip3': <pycbg.xyq.object.xyqObject.Equipment_pet object at 0x10c1281d0>, 'equip4': <pycbg.xyq.object.xyqObject.Equipment_pet object at 0x10c128208>, 'lock': 0, 'lockNew': 0, 'typeID': 102236, 'level': 180, 'DRNC': 3418, 'summon_color': 0, 'realColor': 0, 'APSkill': 0, 'AD_APTTD': 1517, 'DEF_APTTD': 1263, 'raw_growth': 1280, 'growth': 1.28, 'MP_APTTD': 1964, 'HP_APTTD': 4711, 'SPD_APTTD': 1332, 'MS_APTTD': 1160, 'used_yuanxiao': 0, 'used_ruyidan': 0, 'used_qianjinlu': 10, 'used_lianshou': 5, 'used_shuijinggao': 0, 'HP_P': 792, 'MP_P': 190, 'AD_P': 730, 'DEF_P': 206, 'SPD_P': 192, 'unallocated_P': 0, 'lingxing': 100, 'tmp_lingxing': 100, 'jinjie_cd': 0, 'left_qlxl': 0, 'coreName': '吮魔', 'coreID': 708}\n",
      "{'skillList': ['426', '411', '424', '577', '317'], 'coreDict': {906: 5, 904: 5, 936: 5}, 'equip1': <pycbg.xyq.object.xyqObject.Equipment_pet object at 0x10c128358>, 'equip2': <pycbg.xyq.object.xyqObject.Equipment_pet object at 0x10c128278>, 'equip3': <pycbg.xyq.object.xyqObject.Equipment_pet object at 0x10c1282b0>, 'equip4': <pycbg.xyq.object.xyqObject.Equipment_pet object at 0x10c128320>, 'lock': 0, 'lockNew': 0, 'typeID': 102032, 'level': 139, 'DRNC': 65432, 'summon_color': 0, 'realColor': 0, 'APSkill': 0, 'AD_APTTD': 1400, 'DEF_APTTD': 1400, 'raw_growth': 1250, 'growth': 1.25, 'MP_APTTD': 2500, 'HP_APTTD': 4500, 'SPD_APTTD': 1200, 'MS_APTTD': 1200, 'used_yuanxiao': 0, 'used_ruyidan': 0, 'used_qianjinlu': 0, 'used_lianshou': 0, 'used_shuijinggao': 0, 'HP_P': 465, 'MP_P': 545, 'AD_P': 159, 'DEF_P': 194, 'SPD_P': 173, 'unallocated_P': 0, 'lingxing': 0, 'tmp_lingxing': 0, 'jinjie_cd': 0, 'left_qlxl': 7, 'coreName': '', 'coreID': 0}\n"
     ]
    }
   ],
   "source": [
    "for pet in role.pet_list:\n",
    "    print(pet.__dict__)"
   ]
  },
  {
   "cell_type": "code",
   "execution_count": 9,
   "metadata": {},
   "outputs": [
    {
     "name": "stdout",
     "output_type": "stream",
     "text": [
      "15\n"
     ]
    }
   ],
   "source": [
    "print(len(role_list))"
   ]
  },
  {
   "cell_type": "code",
   "execution_count": null,
   "metadata": {},
   "outputs": [],
   "source": []
  }
 ],
 "metadata": {
  "kernelspec": {
   "display_name": "Python 3",
   "language": "python",
   "name": "python3"
  },
  "language_info": {
   "codemirror_mode": {
    "name": "ipython",
    "version": 3
   },
   "file_extension": ".py",
   "mimetype": "text/x-python",
   "name": "python",
   "nbconvert_exporter": "python",
   "pygments_lexer": "ipython3",
   "version": "3.6.4"
  }
 },
 "nbformat": 4,
 "nbformat_minor": 2
}
