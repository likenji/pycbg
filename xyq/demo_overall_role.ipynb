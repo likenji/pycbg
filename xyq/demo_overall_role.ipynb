{
 "cells": [
  {
   "cell_type": "code",
   "execution_count": 4,
   "metadata": {
    "collapsed": true
   },
   "outputs": [
    {
     "ename": "ModuleNotFoundError",
     "evalue": "No module named 'xyq_crawler'",
     "traceback": [
      "\u001b[1;31m---------------------------------------------------------------------------\u001b[0m",
      "\u001b[1;31mModuleNotFoundError\u001b[0m                       Traceback (most recent call last)",
      "\u001b[1;32m<ipython-input-4-bef1e9fd6fae>\u001b[0m in \u001b[0;36m<module>\u001b[1;34m()\u001b[0m\n\u001b[1;32m----> 1\u001b[1;33m \u001b[1;32mimport\u001b[0m \u001b[0mxyq_crawler\u001b[0m\u001b[1;33m\u001b[0m\u001b[0m\n\u001b[0m\u001b[0;32m      2\u001b[0m \u001b[1;32mimport\u001b[0m \u001b[0mxyq_parser\u001b[0m\u001b[1;33m\u001b[0m\u001b[0m\n",
      "\u001b[1;31mModuleNotFoundError\u001b[0m: No module named 'xyq_crawler'"
     ],
     "output_type": "error"
    }
   ],
   "source": [
    "import xyq_crawler\n",
    "import xyq_parser"
   ]
  },
  {
   "cell_type": "markdown",
   "metadata": {},
   "source": [
    "## Initialize crawler and parser \n",
    "## 初始化\n",
    "***"
   ]
  },
  {
   "cell_type": "code",
   "execution_count": 2,
   "metadata": {
    "collapsed": true
   },
   "outputs": [],
   "source": [
    "crawler = Crawler() # for crawling data\n",
    "p = Parser() # for parsing data"
   ]
  },
  {
   "cell_type": "markdown",
   "metadata": {},
   "source": [
    "## Crawling role\n",
    "## 爬取角色id\n",
    "The information is unique and can be used as role ID. \n",
    "***"
   ]
  },
  {
   "cell_type": "code",
   "execution_count": 3,
   "metadata": {
    "scrolled": false
   },
   "outputs": [
    {
     "name": "stdout",
     "output_type": "stream",
     "text": [
      "[(443, '525_1530148816_528478716'), (579, '1109_1531643329_1111991936'), (732, '1268_1534413597_1268958998'), (12, '199_1530199263_201619257'), (681, '1217_1531535979_1219086013'), (712, '1248_1530105465_1249495615'), (677, '1213_1531972324_1213618087'), (84, '443_1533999441_445360712'), (33, '120_1502416775_121577120'), (416, '569_1533538545_571845389'), (769, '1305_1535711204_1306100992'), (229, '160_1527925195_161420018'), (270, '240_1534870478_240767536'), (762, '1298_1526558348_1298701261'), (33, '120_1534425369_122271013')]\n"
     ]
    }
   ],
   "source": [
    "list_role_id=crawler.get_overall_role_id()\n",
    "print(list_role_id)"
   ]
  },
  {
   "cell_type": "markdown",
   "metadata": {},
   "source": [
    "## Crawling role data\n",
    "## 爬取角色数据\n",
    "***"
   ]
  },
  {
   "cell_type": "code",
   "execution_count": 4,
   "metadata": {
    "collapsed": true
   },
   "outputs": [],
   "source": [
    "list_role_desc = [crawler.get_role_desc_by_id(role_id) for role_id in list_role_id]\n",
    "list_role_desc_processed = [p.desc_preprocess(p.remove_tap(role_desc)) for role_desc in list_role_desc]"
   ]
  },
  {
   "cell_type": "markdown",
   "metadata": {},
   "source": [
    "## Visualizing crawled data\n",
    "## 验证爬取数据"
   ]
  },
  {
   "cell_type": "code",
   "execution_count": 5,
   "metadata": {
    "scrolled": true
   },
   "outputs": [
    {
     "name": "stdout",
     "output_type": "stream",
     "text": [
      "{'equip_list': [<pycbg.xyq.object.xyqObject.LingShi object at 0x000001C20F068B38>, <pycbg.xyq.object.xyqObject.LingShi object at 0x000001C20F068240>, <pycbg.xyq.object.xyqObject.LingShi object at 0x000001C20F068C50>, <pycbg.xyq.object.xyqObject.Equipment object at 0x000001C20F068E80>, <pycbg.xyq.object.xyqObject.Equipment object at 0x000001C27FE65588>, <pycbg.xyq.object.xyqObject.Equipment object at 0x000001C20F068DA0>, <pycbg.xyq.object.xyqObject.LingShi object at 0x000001C27FE65A58>, <pycbg.xyq.object.xyqObject.Equipment object at 0x000001C27FE65B38>, <pycbg.xyq.object.xyqObject.Equipment object at 0x000001C27FE65D68>], 'riding_list': [{'mattrib': '力量', 'ExtraGrow': 70, 'iGrade': 85, 'all_skills': {}, 'exgrow': 20106, 'iType': 505}, {'mattrib': '力量', 'ExtraGrow': 50, 'iGrade': 85, 'all_skills': {}, 'exgrow': 17688, 'iType': 504}], 'pet_list': [<pycbg.xyq.object.xyqObject.Pet object at 0x000001C27FE65A90>], 'child': [], 'avatar_list': [{'cName': '怀旧剑侠客炫卡', 'order': 2, 'iType': 20013}, {'cName': '酒葫芦', 'order': 1, 'iType': 13809}], 'rmb_riding_list': [{'nosale': 0, 'cName': '流云玉佩', 'iSkillLevel': 0, 'order': 1, 'iSkill': 0, 'iType': 11098}, {'nosale': 1, 'cName': '九幽灵虎', 'iSkillLevel': 0, 'order': 1, 'iSkill': 0, 'iType': 11124}], 'skill_dict': {'4': 79, '2': 79, '52032': 1, '179': 1, '196': 1, '5': 79, '6': 79, '208': 20, '8': 79, '202': 10, '205': 10, '210': 10, '197': 1, '207': 10, '169': 1, '204': 51, '170': 2, '230': 7, '198': 1, '52031': 1, '203': 10, '52016': 1, '212': 25, '1': 79, '201': 120, '173': 1, '216': 11, '174': 1, '154': 5, '206': 60, '211': 10, '209': 10, '7': 79}, 'prev_school_list': [], 'attrs_option': [], 'fabao_list': [], 'shenqi': {}, 'avatar_num': 2, 'rmb_riding_num': 2, 'sanjiegongji': 5593, 'heroScore': 22, 'swordScore': 0, 'ID': 27816287, 'level': 69, 'state': 0, 'huashenglv': 0, 'name': 'Aη。溟洛ミ', 'school': 1, 'achvPoint': 1282, 'availExp': 135586215, 'totalExp': 20, 'cash': 100629, 'saving': 0, 'learnCash': 1893087, 'goodness': 1610, 'xianyu': 40, 'jingli': 35, 'schCtrb': 146, 'orgCtrb': 0, 'smith': 438, 'sew': 1, 'qianYuanDan': 1, 'addPoint': 7, 'jiYuan': 0, 'qianNengGuo': 50, 'pkgExt': 0, 'petExt': 0, 'exptSki1': 9, 'exptSki2': 9, 'exptSki3': 0, 'exptSki4': 9, 'exptSki5': 0, 'maxExpt1': 20, 'maxExpt2': 20, 'maxExpt3': 20, 'maxExpt4': 20, 'beastSki1': 9, 'beastSki2': 4, 'beastSki3': 9, 'beastSki4': 0}\n"
     ]
    }
   ],
   "source": [
    "role=p.parse_role(list_role_desc_processed[0])\n",
    "print(role.__dict__)"
   ]
  },
  {
   "cell_type": "markdown",
   "metadata": {},
   "source": [
    "## Visualizing equipment\n",
    "## 可视化装备"
   ]
  },
  {
   "cell_type": "code",
   "execution_count": 6,
   "metadata": {},
   "outputs": [
    {
     "name": "stdout",
     "output_type": "stream",
     "text": [
      "{'attrs_list': [['封印命中等级', 12], ['气血', 49], ['防御', 14]], 'level': 60, 'durance': 172, 'gemLevel': 4, 'typeID': 27201, 'lock': 0, 'lockNew': 0}\n",
      "{'attrs_list': [['伤害', 16], ['狂暴等级', 6], ['法术暴击等级', 6], ['伤害', 6]], 'level': 60, 'durance': 450, 'gemLevel': 3, 'typeID': 27001, 'lock': 0, 'lockNew': 0}\n",
      "{'attrs_list': [['法术伤害', 12], ['伤害', 6], ['狂暴等级', 7], ['速度', 9]], 'level': 60, 'durance': 610, 'gemLevel': 4, 'typeID': 27101, 'lock': 0, 'lockNew': 0}\n",
      "{'gemType': ['月亮石'], 'specialEffect': [], 'panelAttrsDict': {'DEF': 195}, 'extraAttrsDict': {'AD_P': 10}, 'meltDict': {'AD_P': 2, 'DEF': 2}, 'extraDesc': ['提升自身4点伤害'], 'level': 60, 'durance': 249, 'gemLevel': 6, 'ultimateSkill': '破甲术', 'hole': 2, 'totemCombo': '万里横行', 'creator': '′芯殇の飞仔', 'typeID': 2607, 'lock': 0, 'lockNew': 0}\n",
      "{'gemType': ['红玛瑙'], 'specialEffect': [], 'panelAttrsDict': {'DEF': 37, 'MP': 70}, 'extraAttrsDict': {'accurateP': 150}, 'meltDict': {'DEF': 3, 'MP': 8}, 'extraDesc': ['提升自身4点伤害'], 'level': 60, 'durance': 417, 'failure': 1, 'gemLevel': 6, 'ultimateSkill': '野兽之力', 'hole': 2, 'totemCombo': '万里横行', 'creator': '─━￠烟花＂', 'typeID': 2507, 'lock': 0, 'lockNew': 0}\n",
      "{'gemType': ['黑宝石'], 'specialEffect': [], 'panelAttrsDict': {'SPD_P': 33, 'DEF': 24}, 'extraAttrsDict': {'SPD': 48}, 'meltDict': {}, 'extraDesc': ['提升自身6点防御'], 'level': 60, 'durance': 341, 'failure': 2, 'gemLevel': 6, 'ultimateSkill': '破血狂攻', 'hole': 2, 'totemCombo': '无懈可击', 'typeID': 2707, 'lock': 0, 'lockNew': 0}\n",
      "{'attrs_list': [['速度', 13], ['气血', 47], ['防御', 14]], 'level': 60, 'durance': 450, 'gemLevel': 4, 'typeID': 27301, 'lock': 0, 'lockNew': 0}\n",
      "{'gemType': ['光芒石'], 'specialEffect': ['愤怒'], 'panelAttrsDict': {'HP': 360, 'DEF': 26}, 'extraAttrsDict': {}, 'meltDict': {}, 'extraDesc': ['提升自身6点防御'], 'level': 60, 'durance': 375, 'failure': 1, 'gemLevel': 6, 'hole': 2, 'totemCombo': '无懈可击', 'typeID': 2911, 'lock': 0, 'lockNew': 0}\n",
      "{'gemType': ['舍利子'], 'specialEffect': ['简易'], 'panelAttrsDict': {'AP': 126}, 'extraAttrsDict': {}, 'meltDict': {}, 'extraDesc': ['普通物理攻击时会造成溅射效果，对另外两个目标造成所受伤害20%的伤害，仅对NPC使用时有效。'], 'level': 70, 'durance': 426, 'gemLevel': 6, 'hole': 3, 'totemCombo': '无心插柳', 'typeID': 2812, 'lock': 0, 'lockNew': 0}\n"
     ]
    }
   ],
   "source": [
    "for equip in role.equip_list:\n",
    "    print(equip.__dict__)"
   ]
  },
  {
   "cell_type": "markdown",
   "metadata": {},
   "source": [
    "## Visualizing pets\n",
    "## 召唤兽可视化"
   ]
  },
  {
   "cell_type": "code",
   "execution_count": 7,
   "metadata": {},
   "outputs": [
    {
     "name": "stdout",
     "output_type": "stream",
     "text": [
      "{'skillList': ['411', '433', '429', '306'], 'coreDict': {}, 'equip1': <pycbg.xyq.object.xyqObject.Equipment_pet object at 0x000001C27FE650B8>, 'equip2': <pycbg.xyq.object.xyqObject.Equipment_pet object at 0x000001C27FE65DA0>, 'equip3': <pycbg.xyq.object.xyqObject.Equipment_pet object at 0x000001C27FE657F0>, 'equip4': <pycbg.xyq.object.xyqObject.Equipment_pet object at 0x000001C27FE65898>, 'lock': 0, 'lockNew': 0, 'typeID': 102071, 'level': 0, 'DRNC': 7500, 'summon_color': 0, 'realColor': 0, 'APSkill': 0, 'AD_APTTD': 1010, 'DEF_APTTD': 1440, 'raw_growth': 1188, 'growth': 1.188, 'MP_APTTD': 2100, 'HP_APTTD': 4130, 'SPD_APTTD': 1560, 'MS_APTTD': 1122, 'used_yuanxiao': 0, 'used_ruyidan': 0, 'used_qianjinlu': 0, 'used_lianshou': 0, 'used_shuijinggao': 0, 'HP_P': 25, 'MP_P': 12, 'AD_P': 19, 'DEF_P': 27, 'SPD_P': 17, 'unallocated_P': 0, 'lingxing': 0, 'tmp_lingxing': 0, 'jinjie_cd': 0, 'left_qlxl': 7, 'coreName': '', 'coreID': 0}\n",
      "{}\n",
      "{}\n",
      "{}\n"
     ]
    }
   ],
   "source": [
    "for pet in role.pet_list:\n",
    "    print(pet.__dict__)\n",
    "    print(pet.equip1.__dict__)\n",
    "    print(pet.equip2.__dict__)\n",
    "    print(pet.equip3.__dict__)"
   ]
  },
  {
   "cell_type": "markdown",
   "metadata": {},
   "source": [
    "## Role consumption calculation\n",
    "## 角色消耗计算"
   ]
  },
  {
   "cell_type": "code",
   "execution_count": 8,
   "metadata": {},
   "outputs": [],
   "source": [
    "role=p.parse_role(list_role_desc_processed[5])"
   ]
  },
  {
   "cell_type": "code",
   "execution_count": 9,
   "metadata": {},
   "outputs": [
    {
     "data": {
      "text/plain": [
       "(26251, 7385)"
      ]
     },
     "execution_count": 9,
     "metadata": {},
     "output_type": "execute_result"
    }
   ],
   "source": [
    "role.calculate_xiulian_consumption(),role.calculate_xiulian_limit_consumption()\n",
    "# how much learn money is needed to reproduce a role with such xiulian levels. "
   ]
  },
  {
   "cell_type": "code",
   "execution_count": 10,
   "metadata": {},
   "outputs": [
    {
     "data": {
      "text/plain": [
       "(1138.11, 0)"
      ]
     },
     "execution_count": 10,
     "metadata": {},
     "output_type": "execute_result"
    }
   ],
   "source": [
    "role.calculate_xiulian_consumptiont_pet(),role.calculate_xiulian_limit_consumption_pet()"
   ]
  },
  {
   "cell_type": "code",
   "execution_count": 11,
   "metadata": {},
   "outputs": [
    {
     "data": {
      "text/plain": [
       "3910.6862"
      ]
     },
     "execution_count": 11,
     "metadata": {},
     "output_type": "execute_result"
    }
   ],
   "source": [
    "role.calculate_fight_skill_consumption()"
   ]
  },
  {
   "cell_type": "code",
   "execution_count": 12,
   "metadata": {},
   "outputs": [
    {
     "data": {
      "text/plain": [
       "1629.3961499999998"
      ]
     },
     "execution_count": 12,
     "metadata": {},
     "output_type": "execute_result"
    }
   ],
   "source": [
    "role.calculate_life_skill_consumption()"
   ]
  },
  {
   "cell_type": "code",
   "execution_count": 13,
   "metadata": {},
   "outputs": [
    {
     "data": {
      "text/plain": [
       "31873.925499999998"
      ]
     },
     "execution_count": 13,
     "metadata": {},
     "output_type": "execute_result"
    }
   ],
   "source": [
    "role.calculate_school_skill_consumption()"
   ]
  }
 ],
 "metadata": {
  "kernelspec": {
   "display_name": "Python 3",
   "language": "python",
   "name": "python3"
  },
  "language_info": {
   "codemirror_mode": {
    "name": "ipython",
    "version": 3
   },
   "file_extension": ".py",
   "mimetype": "text/x-python",
   "name": "python",
   "nbconvert_exporter": "python",
   "pygments_lexer": "ipython3",
   "version": "3.6.1"
  }
 },
 "nbformat": 4,
 "nbformat_minor": 2
}
